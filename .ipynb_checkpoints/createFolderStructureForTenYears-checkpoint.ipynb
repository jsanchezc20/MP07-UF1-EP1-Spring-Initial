{
 "cells": [
  {
   "cell_type": "code",
   "execution_count": 26,
   "id": "80bbc0f0-c6bb-4fe1-a999-f0883f6a0399",
   "metadata": {},
   "outputs": [],
   "source": [
    "#!/usr/bin/env python\n",
    "import os\n",
    "import calendar\n",
    "import numpy as np\n",
    "\n",
    "for year in range(2022, 2033):\n",
    "    os.mkdir(str(year))\n",
    "    for month in range(1,13):\n",
    "        os.makedirs(str(year) + '/' + \"%02d\" % month +'/')\n",
    "        for day in np.arange(calendar.monthrange(int(year),int(month))[1]):\n",
    "            os.makedirs(str(year) + '/' + \"%02d\" % month + '/' + \"%02d\" % (day + 1) +'/')"
   ]
  }
 ],
 "metadata": {
  "kernelspec": {
   "display_name": "Python 3 (ipykernel)",
   "language": "python",
   "name": "python3"
  },
  "language_info": {
   "codemirror_mode": {
    "name": "ipython",
    "version": 3
   },
   "file_extension": ".py",
   "mimetype": "text/x-python",
   "name": "python",
   "nbconvert_exporter": "python",
   "pygments_lexer": "ipython3",
   "version": "3.10.2"
  }
 },
 "nbformat": 4,
 "nbformat_minor": 5
}
