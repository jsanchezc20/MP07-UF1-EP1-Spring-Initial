{
 "cells": [
  {
   "cell_type": "code",
   "execution_count": 1,
   "id": "80bbc0f0-c6bb-4fe1-a999-f0883f6a0399",
   "metadata": {},
   "outputs": [],
   "source": [
    "#!/usr/bin/env python\n",
    "import os\n",
    "import calendar\n",
    "import numpy as np\n",
    "\n",
    "for year in range(2022, 2024):\n",
    "    os.mkdir(str(year))\n",
    "    for month in range(1,13):\n",
    "        os.makedirs(str(year) + '/' + \"%02d\" % month +'/')\n",
    "        for day in np.arange(calendar.monthrange(int(year),int(month))[1]):\n",
    "            os.makedirs(str(year) + '/' + \"%02d\" % month + '/' + \"%02d\" % (day + 1) +'/')"
   ]
  },
  {
   "cell_type": "code",
   "execution_count": null,
   "id": "33f5d91e-fbbc-4eb0-aaba-ff13598a04a3",
   "metadata": {},
   "outputs": [],
   "source": []
  }
 ],
 "metadata": {
  "kernelspec": {
   "display_name": "Python (Bio Spark)",
   "language": "python",
   "name": "python3"
  },
  "language_info": {
   "codemirror_mode": {
    "name": "ipython",
    "version": 3
   },
   "file_extension": ".py",
   "mimetype": "text/x-python",
   "name": "python",
   "nbconvert_exporter": "python",
   "pygments_lexer": "ipython3",
   "version": "3.8.12"
  }
 },
 "nbformat": 4,
 "nbformat_minor": 5
}
